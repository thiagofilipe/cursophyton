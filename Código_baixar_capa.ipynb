{
  "nbformat": 4,
  "nbformat_minor": 0,
  "metadata": {
    "colab": {
      "name": "Código baixar capa",
      "provenance": [],
      "authorship_tag": "ABX9TyMwPtNXPZ2JE94sspdu+bTX"
    },
    "kernelspec": {
      "name": "python3",
      "display_name": "Python 3"
    }
  },
  "cells": [
    {
      "cell_type": "code",
      "metadata": {
        "id": "ZzksIkyMMJ4Y",
        "colab_type": "code",
        "outputId": "dfddd550-d627-490e-9a41-1b8094a4319d",
        "colab": {
          "base_uri": "https://localhost:8080/",
          "height": 51
        }
      },
      "source": [
        "import random\n",
        "import os\n",
        "import urllib.request\n",
        "from bs4 import BeautifulSoup\n",
        "\n",
        "url = input ('Coloque o link ')\n",
        "html = urllib.request.urlopen(url)\n",
        "soup = BeautifulSoup(html)\n",
        "\n",
        "\n",
        "#resultado = (soup.find(id=\"zoom\")\n",
        "\n",
        "for link in soup.find_all(id='zoom'):\n",
        "    imgurl = link.get('href').split(\"//\")[1]\n",
        "    final = 'http://' + imgurl\n",
        "    name = random.randrange(1,100)\n",
        "    fullname = str(name)+\".jpg\"\n",
        "    urllib.request.urlretrieve(final,fullname)\n",
        "   \n",
        "    \n",
        "    print (fullname)"
      ],
      "execution_count": 0,
      "outputs": [
        {
          "output_type": "stream",
          "text": [
            "Coloque o link https://www.passadisco.com.br/produtos/cd-arrisque-varios-interpretes-passa-disco/\n",
            "85.jpg\n"
          ],
          "name": "stdout"
        }
      ]
    }
  ]
}